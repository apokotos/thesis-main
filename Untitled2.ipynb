{
 "cells": [
  {
   "cell_type": "code",
   "execution_count": 62,
   "id": "091f1d54",
   "metadata": {},
   "outputs": [],
   "source": [
    "import httplib2\n",
    "import os\n",
    "import sys\n",
    "import time\n",
    "import requests"
   ]
  },
  {
   "cell_type": "code",
   "execution_count": 63,
   "id": "4a28bd3a",
   "metadata": {},
   "outputs": [],
   "source": [
    "from googleapiclient.discovery import build_from_document\n",
    "from apiclient.errors import HttpError\n",
    "from oauth2client.client import flow_from_clientsecrets\n",
    "from oauth2client.file import Storage\n",
    "from oauth2client.tools import argparser, run_flow\n"
   ]
  },
  {
   "cell_type": "code",
   "execution_count": 74,
   "id": "d9fe65a0",
   "metadata": {},
   "outputs": [
    {
     "ename": "SyntaxError",
     "evalue": "invalid syntax (<ipython-input-74-b1ccd7672332>, line 63)",
     "output_type": "error",
     "traceback": [
      "\u001b[1;36m  File \u001b[1;32m\"<ipython-input-74-b1ccd7672332>\"\u001b[1;36m, line \u001b[1;32m63\u001b[0m\n\u001b[1;33m    def lastvideo(youtube, cid):\u001b[0m\n\u001b[1;37m    ^\u001b[0m\n\u001b[1;31mSyntaxError\u001b[0m\u001b[1;31m:\u001b[0m invalid syntax\n"
     ]
    }
   ],
   "source": [
    "\n",
    "# ======== Configure the following variables ===========\n",
    "#uploads id\n",
    "cid=\"UUgoFStVyEsm8tBZP5NC-aBQ\"\n",
    "#last video id wMuYiLby3-s\n",
    "lastvid=\"tVWWp1PqDus\"\n",
    "# waiting time intervel in seconds\n",
    "intervel=0.1\n",
    "#comment you need to post\n",
    "comment=\"First\"\n",
    "\n",
    "CLIENT_SECRETS_FILE = \"./client_secrets.json\"\n",
    "YOUTUBE_READ_WRITE_SSL_SCOPE = \"https://www.googleapis.com/auth/youtube.force-ssl\"\n",
    "YOUTUBE_API_SERVICE_NAME = \"youtube\"\n",
    "YOUTUBE_API_VERSION = \"v3\"\n",
    "MISSING_CLIENT_SECRETS_MESSAGE =% os.path.abspath(os.path.join(os.path.dirname(__file__),CLIENT_SECRETS_FILE)) \n",
    "\"\"\"\n",
    "WARNING: Please configure OAuth 2.0\n",
    "To make this sample run you will need to populate the client_secrets.json file\n",
    "found at:\n",
    "   %s\n",
    "with information from the APIs Console\n",
    "https://console.developers.google.com\n",
    "For more information about the client_secrets.json file format, please visit:\n",
    "https://developers.google.com/api-client-library/python/guide/aaa_client_secrets\n",
    "\"\"\" \n",
    "\n",
    "\n",
    "# os.path.abspath(os.path.join(os.path.dirname(__file__), os.path.pardir))\n",
    "\n",
    "\n",
    "def get_authenticated_service(args):\n",
    "\tflow = flow_from_clientsecrets(CLIENT_SECRETS_FILE, scope=YOUTUBE_READ_WRITE_SSL_SCOPE,\n",
    "\tmessage=MISSING_CLIENT_SECRETS_MESSAGE)\n",
    "\n",
    "\tstorage = Storage(\"%s-oauth2.json\" % sys.argv[0])\n",
    "\tcredentials = storage.get()\n",
    "\n",
    "\tif credentials is None or credentials.invalid:\n",
    "\t\tcredentials = run_flow(flow, storage, args)\n",
    "\twith open(\"youtube-v3-discoverydocument.json\", \"r\") as f:\n",
    "\t\tdoc = f.read()\n",
    "\treturn build_from_document(doc, http=credentials.authorize(httplib2.Http()))\n",
    "def insert_comment(youtube, parent_id, text):\n",
    "\tinsert_result = youtube.commentThreads().insert(\n",
    "        part=\"snippet\",\n",
    "        body=dict(snippet=dict(videoId=parent_id,\n",
    "                               topLevelComment=dict(snippet=dict(textOriginal=text)))).execute()\n",
    "# # Call the API's commentThreads.insert method to insert a comment.\n",
    "# def insert_comment(youtube, parent_id, video_id, text):\n",
    "#   insert_result = youtube.commentThreads().insert(\n",
    "#     part=\"snippet\",\n",
    "#     body=dict(\n",
    "#       snippet=dict(\n",
    "#         videoId=parent_id,\n",
    "#         topLevelComment=dict(\n",
    "#           snippet=dict(\n",
    "#             textOriginal=text\n",
    "#           )\n",
    "#         )\n",
    "#       )\n",
    "#     )\n",
    "#   ).execute()\n",
    "def lastvideo(youtube, cid):\n",
    "    request = youtube.playlistItems().list(part=\"snippet\", laylistId=cid)\n",
    "    response = request.execute()\n",
    "    return(response[\"items\"][0][\"snippet\"][\"resourceId\"][\"videoId\"])\n",
    "argparser.add_argument(\"--text\", help=\"Required; text that will be used as comment.\")\n",
    "args = argparser.parse_args()\n",
    "args.videoid=lastvid\n",
    "args.text=comment\n",
    "youtube = get_authenticated_service(args)\n",
    "i=0\n",
    "while True:\n",
    "\tlast=lastvideo(youtube,cid)\n",
    "\ti=i+1\n",
    "\tif(last!=lastvid):\n",
    "\t\tprint(last)\n",
    "\t\ttry:\n",
    "\t\t\tinsert_comment(youtube, last, args.text)\n",
    "\t\texcept HttpError as e:\n",
    "\t\t\tprint (\"An HTTP error %d occurred:\\n%s\") % (e.resp.status, e.content)\n",
    "\telse:\n",
    "\t\tprint (\"Comment Inserted\")\n",
    "\t\tbreak\n",
    "\ttime.sleep(intervel)\n",
    "\tprint(\"waiting......\")\n",
    "\tprint (\"Cycle:\", i)\n"
   ]
  },
  {
   "cell_type": "code",
   "execution_count": null,
   "id": "5705b01c",
   "metadata": {},
   "outputs": [],
   "source": []
  }
 ],
 "metadata": {
  "kernelspec": {
   "display_name": "Python 3",
   "language": "python",
   "name": "python3"
  },
  "language_info": {
   "codemirror_mode": {
    "name": "ipython",
    "version": 3
   },
   "file_extension": ".py",
   "mimetype": "text/x-python",
   "name": "python",
   "nbconvert_exporter": "python",
   "pygments_lexer": "ipython3",
   "version": "3.8.8"
  }
 },
 "nbformat": 4,
 "nbformat_minor": 5
}
